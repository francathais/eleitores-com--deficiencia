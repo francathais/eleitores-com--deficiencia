{
  "nbformat": 4,
  "nbformat_minor": 0,
  "metadata": {
    "colab": {
      "provenance": []
    },
    "kernelspec": {
      "name": "python3",
      "display_name": "Python 3"
    },
    "language_info": {
      "name": "python"
    }
  },
  "cells": [
    {
      "cell_type": "markdown",
      "source": [
        "\n",
        ""
      ],
      "metadata": {
        "id": "5OzEfSVUXkzb"
      }
    },
    {
      "cell_type": "code",
      "execution_count": 1,
      "metadata": {
        "id": "9d3ILoLx6j18"
      },
      "outputs": [],
      "source": [
        "import pandas as pd\n",
        "import matplotlib.pyplot as plt\n",
        "import seaborn as sns\n",
        "%matplotlib inline\n",
        "import numpy as np\n",
        "import pandas as pd\n",
        "import matplotlib.pyplot as plt\n",
        "import csv"
      ]
    },
    {
      "cell_type": "code",
      "source": [
        "from google.colab import files\n",
        "uploaded = files.upload()"
      ],
      "metadata": {
        "colab": {
          "base_uri": "https://localhost:8080/",
          "height": 74
        },
        "id": "AScn88_n6uAI",
        "outputId": "fddf7226-506d-449a-daae-f5401d44c495"
      },
      "execution_count": 2,
      "outputs": [
        {
          "output_type": "display_data",
          "data": {
            "text/plain": [
              "<IPython.core.display.HTML object>"
            ],
            "text/html": [
              "\n",
              "     <input type=\"file\" id=\"files-9f2adba2-f3cf-433f-b02d-3f3714bcad81\" name=\"files[]\" multiple disabled\n",
              "        style=\"border:none\" />\n",
              "     <output id=\"result-9f2adba2-f3cf-433f-b02d-3f3714bcad81\">\n",
              "      Upload widget is only available when the cell has been executed in the\n",
              "      current browser session. Please rerun this cell to enable.\n",
              "      </output>\n",
              "      <script>// Copyright 2017 Google LLC\n",
              "//\n",
              "// Licensed under the Apache License, Version 2.0 (the \"License\");\n",
              "// you may not use this file except in compliance with the License.\n",
              "// You may obtain a copy of the License at\n",
              "//\n",
              "//      http://www.apache.org/licenses/LICENSE-2.0\n",
              "//\n",
              "// Unless required by applicable law or agreed to in writing, software\n",
              "// distributed under the License is distributed on an \"AS IS\" BASIS,\n",
              "// WITHOUT WARRANTIES OR CONDITIONS OF ANY KIND, either express or implied.\n",
              "// See the License for the specific language governing permissions and\n",
              "// limitations under the License.\n",
              "\n",
              "/**\n",
              " * @fileoverview Helpers for google.colab Python module.\n",
              " */\n",
              "(function(scope) {\n",
              "function span(text, styleAttributes = {}) {\n",
              "  const element = document.createElement('span');\n",
              "  element.textContent = text;\n",
              "  for (const key of Object.keys(styleAttributes)) {\n",
              "    element.style[key] = styleAttributes[key];\n",
              "  }\n",
              "  return element;\n",
              "}\n",
              "\n",
              "// Max number of bytes which will be uploaded at a time.\n",
              "const MAX_PAYLOAD_SIZE = 100 * 1024;\n",
              "\n",
              "function _uploadFiles(inputId, outputId) {\n",
              "  const steps = uploadFilesStep(inputId, outputId);\n",
              "  const outputElement = document.getElementById(outputId);\n",
              "  // Cache steps on the outputElement to make it available for the next call\n",
              "  // to uploadFilesContinue from Python.\n",
              "  outputElement.steps = steps;\n",
              "\n",
              "  return _uploadFilesContinue(outputId);\n",
              "}\n",
              "\n",
              "// This is roughly an async generator (not supported in the browser yet),\n",
              "// where there are multiple asynchronous steps and the Python side is going\n",
              "// to poll for completion of each step.\n",
              "// This uses a Promise to block the python side on completion of each step,\n",
              "// then passes the result of the previous step as the input to the next step.\n",
              "function _uploadFilesContinue(outputId) {\n",
              "  const outputElement = document.getElementById(outputId);\n",
              "  const steps = outputElement.steps;\n",
              "\n",
              "  const next = steps.next(outputElement.lastPromiseValue);\n",
              "  return Promise.resolve(next.value.promise).then((value) => {\n",
              "    // Cache the last promise value to make it available to the next\n",
              "    // step of the generator.\n",
              "    outputElement.lastPromiseValue = value;\n",
              "    return next.value.response;\n",
              "  });\n",
              "}\n",
              "\n",
              "/**\n",
              " * Generator function which is called between each async step of the upload\n",
              " * process.\n",
              " * @param {string} inputId Element ID of the input file picker element.\n",
              " * @param {string} outputId Element ID of the output display.\n",
              " * @return {!Iterable<!Object>} Iterable of next steps.\n",
              " */\n",
              "function* uploadFilesStep(inputId, outputId) {\n",
              "  const inputElement = document.getElementById(inputId);\n",
              "  inputElement.disabled = false;\n",
              "\n",
              "  const outputElement = document.getElementById(outputId);\n",
              "  outputElement.innerHTML = '';\n",
              "\n",
              "  const pickedPromise = new Promise((resolve) => {\n",
              "    inputElement.addEventListener('change', (e) => {\n",
              "      resolve(e.target.files);\n",
              "    });\n",
              "  });\n",
              "\n",
              "  const cancel = document.createElement('button');\n",
              "  inputElement.parentElement.appendChild(cancel);\n",
              "  cancel.textContent = 'Cancel upload';\n",
              "  const cancelPromise = new Promise((resolve) => {\n",
              "    cancel.onclick = () => {\n",
              "      resolve(null);\n",
              "    };\n",
              "  });\n",
              "\n",
              "  // Wait for the user to pick the files.\n",
              "  const files = yield {\n",
              "    promise: Promise.race([pickedPromise, cancelPromise]),\n",
              "    response: {\n",
              "      action: 'starting',\n",
              "    }\n",
              "  };\n",
              "\n",
              "  cancel.remove();\n",
              "\n",
              "  // Disable the input element since further picks are not allowed.\n",
              "  inputElement.disabled = true;\n",
              "\n",
              "  if (!files) {\n",
              "    return {\n",
              "      response: {\n",
              "        action: 'complete',\n",
              "      }\n",
              "    };\n",
              "  }\n",
              "\n",
              "  for (const file of files) {\n",
              "    const li = document.createElement('li');\n",
              "    li.append(span(file.name, {fontWeight: 'bold'}));\n",
              "    li.append(span(\n",
              "        `(${file.type || 'n/a'}) - ${file.size} bytes, ` +\n",
              "        `last modified: ${\n",
              "            file.lastModifiedDate ? file.lastModifiedDate.toLocaleDateString() :\n",
              "                                    'n/a'} - `));\n",
              "    const percent = span('0% done');\n",
              "    li.appendChild(percent);\n",
              "\n",
              "    outputElement.appendChild(li);\n",
              "\n",
              "    const fileDataPromise = new Promise((resolve) => {\n",
              "      const reader = new FileReader();\n",
              "      reader.onload = (e) => {\n",
              "        resolve(e.target.result);\n",
              "      };\n",
              "      reader.readAsArrayBuffer(file);\n",
              "    });\n",
              "    // Wait for the data to be ready.\n",
              "    let fileData = yield {\n",
              "      promise: fileDataPromise,\n",
              "      response: {\n",
              "        action: 'continue',\n",
              "      }\n",
              "    };\n",
              "\n",
              "    // Use a chunked sending to avoid message size limits. See b/62115660.\n",
              "    let position = 0;\n",
              "    do {\n",
              "      const length = Math.min(fileData.byteLength - position, MAX_PAYLOAD_SIZE);\n",
              "      const chunk = new Uint8Array(fileData, position, length);\n",
              "      position += length;\n",
              "\n",
              "      const base64 = btoa(String.fromCharCode.apply(null, chunk));\n",
              "      yield {\n",
              "        response: {\n",
              "          action: 'append',\n",
              "          file: file.name,\n",
              "          data: base64,\n",
              "        },\n",
              "      };\n",
              "\n",
              "      let percentDone = fileData.byteLength === 0 ?\n",
              "          100 :\n",
              "          Math.round((position / fileData.byteLength) * 100);\n",
              "      percent.textContent = `${percentDone}% done`;\n",
              "\n",
              "    } while (position < fileData.byteLength);\n",
              "  }\n",
              "\n",
              "  // All done.\n",
              "  yield {\n",
              "    response: {\n",
              "      action: 'complete',\n",
              "    }\n",
              "  };\n",
              "}\n",
              "\n",
              "scope.google = scope.google || {};\n",
              "scope.google.colab = scope.google.colab || {};\n",
              "scope.google.colab._files = {\n",
              "  _uploadFiles,\n",
              "  _uploadFilesContinue,\n",
              "};\n",
              "})(self);\n",
              "</script> "
            ]
          },
          "metadata": {}
        },
        {
          "output_type": "stream",
          "name": "stdout",
          "text": [
            "Saving perfil_eleitor_deficiencia_2022_SP.csv to perfil_eleitor_deficiencia_2022_SP.csv\n"
          ]
        }
      ]
    },
    {
      "cell_type": "code",
      "source": [
        "df = pd.read_csv('/content/perfil_eleitor_deficiencia_2022_SP.csv',header=0,encoding='ISO-8859-1',delimiter=';')"
      ],
      "metadata": {
        "id": "VrBPRKjw7RVN"
      },
      "execution_count": 3,
      "outputs": []
    },
    {
      "cell_type": "code",
      "source": [
        "df.sample(10)"
      ],
      "metadata": {
        "colab": {
          "base_uri": "https://localhost:8080/",
          "height": 578
        },
        "id": "EnJbgmPa7Sk1",
        "outputId": "fae052f3-8db8-457b-dd91-f487c60b5811"
      },
      "execution_count": 4,
      "outputs": [
        {
          "output_type": "execute_result",
          "data": {
            "text/plain": [
              "        DT_GERACAO HH_GERACAO  ANO_ELEICAO  SQ_ELEITOR SG_UF  CD_MUNICIPIO  \\\n",
              "145543  12/07/2022   07:13:34         2022    97422914    SP         64750   \n",
              "364528  12/07/2022   07:13:34         2022   917779468    SP         71218   \n",
              "444207  12/07/2022   07:13:34         2022    22329360    SP         65110   \n",
              "390695  12/07/2022   07:13:34         2022   692905198    SP         63231   \n",
              "203645  12/07/2022   07:13:34         2022   918110237    SP         71072   \n",
              "392767  12/07/2022   07:13:34         2022    94601995    SP         71072   \n",
              "380919  12/07/2022   07:13:34         2022   953228564    SP         71072   \n",
              "86308   12/07/2022   07:13:34         2022    95151183    SP         71072   \n",
              "18310   12/07/2022   07:13:34         2022    90517149    SP         62910   \n",
              "149198  12/07/2022   07:13:34         2022   935191549    SP         62910   \n",
              "\n",
              "       NM_MUNICIPIO  CD_MUN_SIT_BIOMETRICA DS_MUN_SIT_BIOMETRICA  NR_ZONA  \\\n",
              "145543      GUARUJÁ                      2               Híbrido      310   \n",
              "364528  SÃO VICENTE                      2               Híbrido      340   \n",
              "444207   INDAIATUBA                      1            Biométrico      211   \n",
              "390695    CATANDUVA                      1            Biométrico       40   \n",
              "203645    SÃO PAULO                      2               Híbrido      408   \n",
              "392767    SÃO PAULO                      2               Híbrido      353   \n",
              "380919    SÃO PAULO                      2               Híbrido      280   \n",
              "86308     SÃO PAULO                      2               Híbrido      353   \n",
              "18310      CAMPINAS                      2               Híbrido      275   \n",
              "149198     CAMPINAS                      2               Híbrido      378   \n",
              "\n",
              "        ...  DS_GENERO  CD_ESTADO_CIVIL DS_ESTADO_CIVIL  CD_FAIXA_ETARIA  \\\n",
              "145543  ...   FEMININO                3          CASADO             7074   \n",
              "364528  ...  MASCULINO                1        SOLTEIRO             3539   \n",
              "444207  ...   FEMININO                3          CASADO             6064   \n",
              "390695  ...  MASCULINO                1        SOLTEIRO             3539   \n",
              "203645  ...  MASCULINO                1        SOLTEIRO             3034   \n",
              "392767  ...   FEMININO                3          CASADO             5054   \n",
              "380919  ...   FEMININO                3          CASADO             4044   \n",
              "86308   ...  MASCULINO                3          CASADO             7579   \n",
              "18310   ...   FEMININO                1        SOLTEIRO             7074   \n",
              "149198  ...   FEMININO                1        SOLTEIRO             3539   \n",
              "\n",
              "                       DS_FAIXA_ETARIA  CD_GRAU_ESCOLARIDADE  \\\n",
              "145543  70 a 74 anos                                       3   \n",
              "364528  35 a 39 anos                                       1   \n",
              "444207  60 a 64 anos                                       2   \n",
              "390695  35 a 39 anos                                       1   \n",
              "203645  30 a 34 anos                                       3   \n",
              "392767  50 a 54 anos                                       5   \n",
              "380919  40 a 44 anos                                       5   \n",
              "86308   75 a 79 anos                                       3   \n",
              "18310   70 a 74 anos                                       6   \n",
              "149198  35 a 39 anos                                       6   \n",
              "\n",
              "                 DS_GRAU_ESCOLARIDADE  ST_ELEITOR_BIOMETRIA  \\\n",
              "145543  ENSINO FUNDAMENTAL INCOMPLETO                     S   \n",
              "364528                     ANALFABETO                     N   \n",
              "444207                   LÊ E ESCREVE                     S   \n",
              "390695                     ANALFABETO                     S   \n",
              "203645  ENSINO FUNDAMENTAL INCOMPLETO                     S   \n",
              "392767        ENSINO MÉDIO INCOMPLETO                     S   \n",
              "380919        ENSINO MÉDIO INCOMPLETO                     S   \n",
              "86308   ENSINO FUNDAMENTAL INCOMPLETO                     S   \n",
              "18310           ENSINO MÉDIO COMPLETO                     S   \n",
              "149198          ENSINO MÉDIO COMPLETO                     S   \n",
              "\n",
              "       CD_TIPO_DEFICIENCIA       DS_TIPO_DEFICIENCIA  \n",
              "145543                   2  DEFICIÊNCIA DE LOCOMOÇÃO  \n",
              "364528                   3                    OUTROS  \n",
              "444207                   2  DEFICIÊNCIA DE LOCOMOÇÃO  \n",
              "390695                   2  DEFICIÊNCIA DE LOCOMOÇÃO  \n",
              "203645                   3                    OUTROS  \n",
              "392767                   3                    OUTROS  \n",
              "380919                   2  DEFICIÊNCIA DE LOCOMOÇÃO  \n",
              "86308                    3                    OUTROS  \n",
              "18310                    2  DEFICIÊNCIA DE LOCOMOÇÃO  \n",
              "149198                   3                    OUTROS  \n",
              "\n",
              "[10 rows x 22 columns]"
            ],
            "text/html": [
              "\n",
              "  <div id=\"df-8190b9f6-c94e-457a-ac3a-04918f217538\">\n",
              "    <div class=\"colab-df-container\">\n",
              "      <div>\n",
              "<style scoped>\n",
              "    .dataframe tbody tr th:only-of-type {\n",
              "        vertical-align: middle;\n",
              "    }\n",
              "\n",
              "    .dataframe tbody tr th {\n",
              "        vertical-align: top;\n",
              "    }\n",
              "\n",
              "    .dataframe thead th {\n",
              "        text-align: right;\n",
              "    }\n",
              "</style>\n",
              "<table border=\"1\" class=\"dataframe\">\n",
              "  <thead>\n",
              "    <tr style=\"text-align: right;\">\n",
              "      <th></th>\n",
              "      <th>DT_GERACAO</th>\n",
              "      <th>HH_GERACAO</th>\n",
              "      <th>ANO_ELEICAO</th>\n",
              "      <th>SQ_ELEITOR</th>\n",
              "      <th>SG_UF</th>\n",
              "      <th>CD_MUNICIPIO</th>\n",
              "      <th>NM_MUNICIPIO</th>\n",
              "      <th>CD_MUN_SIT_BIOMETRICA</th>\n",
              "      <th>DS_MUN_SIT_BIOMETRICA</th>\n",
              "      <th>NR_ZONA</th>\n",
              "      <th>...</th>\n",
              "      <th>DS_GENERO</th>\n",
              "      <th>CD_ESTADO_CIVIL</th>\n",
              "      <th>DS_ESTADO_CIVIL</th>\n",
              "      <th>CD_FAIXA_ETARIA</th>\n",
              "      <th>DS_FAIXA_ETARIA</th>\n",
              "      <th>CD_GRAU_ESCOLARIDADE</th>\n",
              "      <th>DS_GRAU_ESCOLARIDADE</th>\n",
              "      <th>ST_ELEITOR_BIOMETRIA</th>\n",
              "      <th>CD_TIPO_DEFICIENCIA</th>\n",
              "      <th>DS_TIPO_DEFICIENCIA</th>\n",
              "    </tr>\n",
              "  </thead>\n",
              "  <tbody>\n",
              "    <tr>\n",
              "      <th>145543</th>\n",
              "      <td>12/07/2022</td>\n",
              "      <td>07:13:34</td>\n",
              "      <td>2022</td>\n",
              "      <td>97422914</td>\n",
              "      <td>SP</td>\n",
              "      <td>64750</td>\n",
              "      <td>GUARUJÁ</td>\n",
              "      <td>2</td>\n",
              "      <td>Híbrido</td>\n",
              "      <td>310</td>\n",
              "      <td>...</td>\n",
              "      <td>FEMININO</td>\n",
              "      <td>3</td>\n",
              "      <td>CASADO</td>\n",
              "      <td>7074</td>\n",
              "      <td>70 a 74 anos</td>\n",
              "      <td>3</td>\n",
              "      <td>ENSINO FUNDAMENTAL INCOMPLETO</td>\n",
              "      <td>S</td>\n",
              "      <td>2</td>\n",
              "      <td>DEFICIÊNCIA DE LOCOMOÇÃO</td>\n",
              "    </tr>\n",
              "    <tr>\n",
              "      <th>364528</th>\n",
              "      <td>12/07/2022</td>\n",
              "      <td>07:13:34</td>\n",
              "      <td>2022</td>\n",
              "      <td>917779468</td>\n",
              "      <td>SP</td>\n",
              "      <td>71218</td>\n",
              "      <td>SÃO VICENTE</td>\n",
              "      <td>2</td>\n",
              "      <td>Híbrido</td>\n",
              "      <td>340</td>\n",
              "      <td>...</td>\n",
              "      <td>MASCULINO</td>\n",
              "      <td>1</td>\n",
              "      <td>SOLTEIRO</td>\n",
              "      <td>3539</td>\n",
              "      <td>35 a 39 anos</td>\n",
              "      <td>1</td>\n",
              "      <td>ANALFABETO</td>\n",
              "      <td>N</td>\n",
              "      <td>3</td>\n",
              "      <td>OUTROS</td>\n",
              "    </tr>\n",
              "    <tr>\n",
              "      <th>444207</th>\n",
              "      <td>12/07/2022</td>\n",
              "      <td>07:13:34</td>\n",
              "      <td>2022</td>\n",
              "      <td>22329360</td>\n",
              "      <td>SP</td>\n",
              "      <td>65110</td>\n",
              "      <td>INDAIATUBA</td>\n",
              "      <td>1</td>\n",
              "      <td>Biométrico</td>\n",
              "      <td>211</td>\n",
              "      <td>...</td>\n",
              "      <td>FEMININO</td>\n",
              "      <td>3</td>\n",
              "      <td>CASADO</td>\n",
              "      <td>6064</td>\n",
              "      <td>60 a 64 anos</td>\n",
              "      <td>2</td>\n",
              "      <td>LÊ E ESCREVE</td>\n",
              "      <td>S</td>\n",
              "      <td>2</td>\n",
              "      <td>DEFICIÊNCIA DE LOCOMOÇÃO</td>\n",
              "    </tr>\n",
              "    <tr>\n",
              "      <th>390695</th>\n",
              "      <td>12/07/2022</td>\n",
              "      <td>07:13:34</td>\n",
              "      <td>2022</td>\n",
              "      <td>692905198</td>\n",
              "      <td>SP</td>\n",
              "      <td>63231</td>\n",
              "      <td>CATANDUVA</td>\n",
              "      <td>1</td>\n",
              "      <td>Biométrico</td>\n",
              "      <td>40</td>\n",
              "      <td>...</td>\n",
              "      <td>MASCULINO</td>\n",
              "      <td>1</td>\n",
              "      <td>SOLTEIRO</td>\n",
              "      <td>3539</td>\n",
              "      <td>35 a 39 anos</td>\n",
              "      <td>1</td>\n",
              "      <td>ANALFABETO</td>\n",
              "      <td>S</td>\n",
              "      <td>2</td>\n",
              "      <td>DEFICIÊNCIA DE LOCOMOÇÃO</td>\n",
              "    </tr>\n",
              "    <tr>\n",
              "      <th>203645</th>\n",
              "      <td>12/07/2022</td>\n",
              "      <td>07:13:34</td>\n",
              "      <td>2022</td>\n",
              "      <td>918110237</td>\n",
              "      <td>SP</td>\n",
              "      <td>71072</td>\n",
              "      <td>SÃO PAULO</td>\n",
              "      <td>2</td>\n",
              "      <td>Híbrido</td>\n",
              "      <td>408</td>\n",
              "      <td>...</td>\n",
              "      <td>MASCULINO</td>\n",
              "      <td>1</td>\n",
              "      <td>SOLTEIRO</td>\n",
              "      <td>3034</td>\n",
              "      <td>30 a 34 anos</td>\n",
              "      <td>3</td>\n",
              "      <td>ENSINO FUNDAMENTAL INCOMPLETO</td>\n",
              "      <td>S</td>\n",
              "      <td>3</td>\n",
              "      <td>OUTROS</td>\n",
              "    </tr>\n",
              "    <tr>\n",
              "      <th>392767</th>\n",
              "      <td>12/07/2022</td>\n",
              "      <td>07:13:34</td>\n",
              "      <td>2022</td>\n",
              "      <td>94601995</td>\n",
              "      <td>SP</td>\n",
              "      <td>71072</td>\n",
              "      <td>SÃO PAULO</td>\n",
              "      <td>2</td>\n",
              "      <td>Híbrido</td>\n",
              "      <td>353</td>\n",
              "      <td>...</td>\n",
              "      <td>FEMININO</td>\n",
              "      <td>3</td>\n",
              "      <td>CASADO</td>\n",
              "      <td>5054</td>\n",
              "      <td>50 a 54 anos</td>\n",
              "      <td>5</td>\n",
              "      <td>ENSINO MÉDIO INCOMPLETO</td>\n",
              "      <td>S</td>\n",
              "      <td>3</td>\n",
              "      <td>OUTROS</td>\n",
              "    </tr>\n",
              "    <tr>\n",
              "      <th>380919</th>\n",
              "      <td>12/07/2022</td>\n",
              "      <td>07:13:34</td>\n",
              "      <td>2022</td>\n",
              "      <td>953228564</td>\n",
              "      <td>SP</td>\n",
              "      <td>71072</td>\n",
              "      <td>SÃO PAULO</td>\n",
              "      <td>2</td>\n",
              "      <td>Híbrido</td>\n",
              "      <td>280</td>\n",
              "      <td>...</td>\n",
              "      <td>FEMININO</td>\n",
              "      <td>3</td>\n",
              "      <td>CASADO</td>\n",
              "      <td>4044</td>\n",
              "      <td>40 a 44 anos</td>\n",
              "      <td>5</td>\n",
              "      <td>ENSINO MÉDIO INCOMPLETO</td>\n",
              "      <td>S</td>\n",
              "      <td>2</td>\n",
              "      <td>DEFICIÊNCIA DE LOCOMOÇÃO</td>\n",
              "    </tr>\n",
              "    <tr>\n",
              "      <th>86308</th>\n",
              "      <td>12/07/2022</td>\n",
              "      <td>07:13:34</td>\n",
              "      <td>2022</td>\n",
              "      <td>95151183</td>\n",
              "      <td>SP</td>\n",
              "      <td>71072</td>\n",
              "      <td>SÃO PAULO</td>\n",
              "      <td>2</td>\n",
              "      <td>Híbrido</td>\n",
              "      <td>353</td>\n",
              "      <td>...</td>\n",
              "      <td>MASCULINO</td>\n",
              "      <td>3</td>\n",
              "      <td>CASADO</td>\n",
              "      <td>7579</td>\n",
              "      <td>75 a 79 anos</td>\n",
              "      <td>3</td>\n",
              "      <td>ENSINO FUNDAMENTAL INCOMPLETO</td>\n",
              "      <td>S</td>\n",
              "      <td>3</td>\n",
              "      <td>OUTROS</td>\n",
              "    </tr>\n",
              "    <tr>\n",
              "      <th>18310</th>\n",
              "      <td>12/07/2022</td>\n",
              "      <td>07:13:34</td>\n",
              "      <td>2022</td>\n",
              "      <td>90517149</td>\n",
              "      <td>SP</td>\n",
              "      <td>62910</td>\n",
              "      <td>CAMPINAS</td>\n",
              "      <td>2</td>\n",
              "      <td>Híbrido</td>\n",
              "      <td>275</td>\n",
              "      <td>...</td>\n",
              "      <td>FEMININO</td>\n",
              "      <td>1</td>\n",
              "      <td>SOLTEIRO</td>\n",
              "      <td>7074</td>\n",
              "      <td>70 a 74 anos</td>\n",
              "      <td>6</td>\n",
              "      <td>ENSINO MÉDIO COMPLETO</td>\n",
              "      <td>S</td>\n",
              "      <td>2</td>\n",
              "      <td>DEFICIÊNCIA DE LOCOMOÇÃO</td>\n",
              "    </tr>\n",
              "    <tr>\n",
              "      <th>149198</th>\n",
              "      <td>12/07/2022</td>\n",
              "      <td>07:13:34</td>\n",
              "      <td>2022</td>\n",
              "      <td>935191549</td>\n",
              "      <td>SP</td>\n",
              "      <td>62910</td>\n",
              "      <td>CAMPINAS</td>\n",
              "      <td>2</td>\n",
              "      <td>Híbrido</td>\n",
              "      <td>378</td>\n",
              "      <td>...</td>\n",
              "      <td>FEMININO</td>\n",
              "      <td>1</td>\n",
              "      <td>SOLTEIRO</td>\n",
              "      <td>3539</td>\n",
              "      <td>35 a 39 anos</td>\n",
              "      <td>6</td>\n",
              "      <td>ENSINO MÉDIO COMPLETO</td>\n",
              "      <td>S</td>\n",
              "      <td>3</td>\n",
              "      <td>OUTROS</td>\n",
              "    </tr>\n",
              "  </tbody>\n",
              "</table>\n",
              "<p>10 rows × 22 columns</p>\n",
              "</div>\n",
              "      <button class=\"colab-df-convert\" onclick=\"convertToInteractive('df-8190b9f6-c94e-457a-ac3a-04918f217538')\"\n",
              "              title=\"Convert this dataframe to an interactive table.\"\n",
              "              style=\"display:none;\">\n",
              "        \n",
              "  <svg xmlns=\"http://www.w3.org/2000/svg\" height=\"24px\"viewBox=\"0 0 24 24\"\n",
              "       width=\"24px\">\n",
              "    <path d=\"M0 0h24v24H0V0z\" fill=\"none\"/>\n",
              "    <path d=\"M18.56 5.44l.94 2.06.94-2.06 2.06-.94-2.06-.94-.94-2.06-.94 2.06-2.06.94zm-11 1L8.5 8.5l.94-2.06 2.06-.94-2.06-.94L8.5 2.5l-.94 2.06-2.06.94zm10 10l.94 2.06.94-2.06 2.06-.94-2.06-.94-.94-2.06-.94 2.06-2.06.94z\"/><path d=\"M17.41 7.96l-1.37-1.37c-.4-.4-.92-.59-1.43-.59-.52 0-1.04.2-1.43.59L10.3 9.45l-7.72 7.72c-.78.78-.78 2.05 0 2.83L4 21.41c.39.39.9.59 1.41.59.51 0 1.02-.2 1.41-.59l7.78-7.78 2.81-2.81c.8-.78.8-2.07 0-2.86zM5.41 20L4 18.59l7.72-7.72 1.47 1.35L5.41 20z\"/>\n",
              "  </svg>\n",
              "      </button>\n",
              "      \n",
              "  <style>\n",
              "    .colab-df-container {\n",
              "      display:flex;\n",
              "      flex-wrap:wrap;\n",
              "      gap: 12px;\n",
              "    }\n",
              "\n",
              "    .colab-df-convert {\n",
              "      background-color: #E8F0FE;\n",
              "      border: none;\n",
              "      border-radius: 50%;\n",
              "      cursor: pointer;\n",
              "      display: none;\n",
              "      fill: #1967D2;\n",
              "      height: 32px;\n",
              "      padding: 0 0 0 0;\n",
              "      width: 32px;\n",
              "    }\n",
              "\n",
              "    .colab-df-convert:hover {\n",
              "      background-color: #E2EBFA;\n",
              "      box-shadow: 0px 1px 2px rgba(60, 64, 67, 0.3), 0px 1px 3px 1px rgba(60, 64, 67, 0.15);\n",
              "      fill: #174EA6;\n",
              "    }\n",
              "\n",
              "    [theme=dark] .colab-df-convert {\n",
              "      background-color: #3B4455;\n",
              "      fill: #D2E3FC;\n",
              "    }\n",
              "\n",
              "    [theme=dark] .colab-df-convert:hover {\n",
              "      background-color: #434B5C;\n",
              "      box-shadow: 0px 1px 3px 1px rgba(0, 0, 0, 0.15);\n",
              "      filter: drop-shadow(0px 1px 2px rgba(0, 0, 0, 0.3));\n",
              "      fill: #FFFFFF;\n",
              "    }\n",
              "  </style>\n",
              "\n",
              "      <script>\n",
              "        const buttonEl =\n",
              "          document.querySelector('#df-8190b9f6-c94e-457a-ac3a-04918f217538 button.colab-df-convert');\n",
              "        buttonEl.style.display =\n",
              "          google.colab.kernel.accessAllowed ? 'block' : 'none';\n",
              "\n",
              "        async function convertToInteractive(key) {\n",
              "          const element = document.querySelector('#df-8190b9f6-c94e-457a-ac3a-04918f217538');\n",
              "          const dataTable =\n",
              "            await google.colab.kernel.invokeFunction('convertToInteractive',\n",
              "                                                     [key], {});\n",
              "          if (!dataTable) return;\n",
              "\n",
              "          const docLinkHtml = 'Like what you see? Visit the ' +\n",
              "            '<a target=\"_blank\" href=https://colab.research.google.com/notebooks/data_table.ipynb>data table notebook</a>'\n",
              "            + ' to learn more about interactive tables.';\n",
              "          element.innerHTML = '';\n",
              "          dataTable['output_type'] = 'display_data';\n",
              "          await google.colab.output.renderOutput(dataTable, element);\n",
              "          const docLink = document.createElement('div');\n",
              "          docLink.innerHTML = docLinkHtml;\n",
              "          element.appendChild(docLink);\n",
              "        }\n",
              "      </script>\n",
              "    </div>\n",
              "  </div>\n",
              "  "
            ]
          },
          "metadata": {},
          "execution_count": 4
        }
      ]
    },
    {
      "cell_type": "code",
      "source": [
        "agrupando = df.groupby(['DS_GENERO']).size()"
      ],
      "metadata": {
        "id": "YgYjd4pG7cTl"
      },
      "execution_count": 5,
      "outputs": []
    },
    {
      "cell_type": "code",
      "source": [
        "agrupando"
      ],
      "metadata": {
        "colab": {
          "base_uri": "https://localhost:8080/"
        },
        "id": "PA0iNKzw-Og2",
        "outputId": "1e0d7f54-5831-4db3-c684-b2eef6d3f02b"
      },
      "execution_count": 6,
      "outputs": [
        {
          "output_type": "execute_result",
          "data": {
            "text/plain": [
              "DS_GENERO\n",
              "FEMININO         247207\n",
              "MASCULINO        209592\n",
              "NÃO INFORMADO        47\n",
              "dtype: int64"
            ]
          },
          "metadata": {},
          "execution_count": 6
        }
      ]
    },
    {
      "cell_type": "code",
      "source": [
        "Quantidades = np.array([209592, 247207])\n",
        "OsGeneros = ['MASCULINO', 'FEMININO']\n",
        "\n",
        "cores=['LightSkyBlue', 'OrangeRed']\n",
        "# o atributo explode indica que fatia do gráfico será destacada. No exemplo abaixo, será a primeira fatia. A quantidade de valores é igual ao número de fatias do gráfico. \n",
        "explode = (0, 0.2)  # explode 1st slice\n",
        "\n",
        "# Atribuindo um título ao gráfico\n",
        "plt.title('Tipo de deficiência do eleitor, São Paulo, 2022', fontsize = 16)\n",
        "\n",
        "plt.pie(Quantidades, explode=explode, labels=OsGeneros, colors=cores, autopct='%1.2f%%', shadow=True, startangle=100)\n",
        "\n",
        "\n",
        "#Ajusta o espaçamento para evitar o recorte do rótulo\n",
        "plt.tight_layout()\n",
        "\n",
        "plt.savefig('generodeles.png')"
      ],
      "metadata": {
        "colab": {
          "base_uri": "https://localhost:8080/",
          "height": 297
        },
        "id": "AVkSExzbWDA2",
        "outputId": "0f214940-e1a1-473f-f21d-7e5e31d6922c"
      },
      "execution_count": 28,
      "outputs": [
        {
          "output_type": "display_data",
          "data": {
            "text/plain": [
              "<Figure size 432x288 with 1 Axes>"
            ],
            "image/png": "[encoded data removed]"
          },
          "metadata": {}
        }
      ]
    },
    {
      "cell_type": "code",
      "source": [
        "agrupando.plot.barh(color=\"SlateGray\", figsize=(12,7)).set_title('Gênero do eleitor com deficiência, São Paulo, 2022', fontsize = 16)\n",
        "plt.ylabel('', fontsize = 16)\n",
        "plt.xlabel('', fontsize = 16)\n",
        "plt.savefig('FEM.png')"
      ],
      "metadata": {
        "colab": {
          "base_uri": "https://localhost:8080/",
          "height": 446
        },
        "id": "TUOdZr0W-VG3",
        "outputId": "1e3d6b05-a4a9-40c8-ffa7-54b7d25e6d5a"
      },
      "execution_count": 7,
      "outputs": [
        {
          "output_type": "display_data",
          "data": {
            "text/plain": [
              "<Figure size 864x504 with 1 Axes>"
            ],
            "image/png": "[encoded data removed]"
          },
          "metadata": {
            "needs_background": "light"
          }
        }
      ]
    },
    {
      "cell_type": "code",
      "source": [
        "agrupando2 = df.groupby(['DS_FAIXA_ETARIA']).size()"
      ],
      "metadata": {
        "id": "VDYvhCu3_0Uq"
      },
      "execution_count": 8,
      "outputs": []
    },
    {
      "cell_type": "code",
      "source": [
        "agrupando2"
      ],
      "metadata": {
        "colab": {
          "base_uri": "https://localhost:8080/"
        },
        "id": "bmuOKGCH_e4F",
        "outputId": "be4317f4-4ab5-4742-8c80-290eb9421d86"
      },
      "execution_count": 9,
      "outputs": [
        {
          "output_type": "execute_result",
          "data": {
            "text/plain": [
              "DS_FAIXA_ETARIA\n",
              "100 anos ou mais                    133\n",
              "16 anos                            1066\n",
              "17 anos                            1999\n",
              "18 anos                            4122\n",
              "19 anos                            4388\n",
              "20 anos                            4318\n",
              "21 a 24 anos                      16395\n",
              "25 a 29 anos                      23756\n",
              "30 a 34 anos                      22622\n",
              "35 a 39 anos                      20413\n",
              "40 a 44 anos                      22595\n",
              "45 a 49 anos                      23482\n",
              "50 a 54 anos                      25896\n",
              "55 a 59 anos                      30102\n",
              "60 a 64 anos                      41460\n",
              "65 a 69 anos                      78717\n",
              "70 a 74 anos                      70223\n",
              "75 a 79 anos                      35871\n",
              "80 a 84 anos                      17359\n",
              "85 a 89 anos                       8127\n",
              "90 a 94 anos                       3065\n",
              "95 a 99 anos                        728\n",
              "Inválido                              9\n",
              "dtype: int64"
            ]
          },
          "metadata": {},
          "execution_count": 9
        }
      ]
    },
    {
      "cell_type": "code",
      "source": [
        "agrupando2.plot.bar(color=\"BurlyWood\", figsize=(14,1), fontsize=14).set_title('Distribuição de idades do eleitor com deficiência, São Paulo, 2022', fontsize = 16.5)\n",
        "plt.ylabel('Eleitores', fontsize = 14)\n",
        "plt.xlabel('Faixa etária', fontsize = 14)\n",
        "plt.savefig('Distribuição.png')"
      ],
      "metadata": {
        "colab": {
          "base_uri": "https://localhost:8080/",
          "height": 318
        },
        "id": "X2gQme7LB2Eb",
        "outputId": "8c93f74f-993c-4f7b-caf5-08a064290fdf"
      },
      "execution_count": 10,
      "outputs": [
        {
          "output_type": "display_data",
          "data": {
            "text/plain": [
              "<Figure size 1008x72 with 1 Axes>"
            ],
            "image/png": "[encoded data removed]"
          },
          "metadata": {
            "needs_background": "light"
          }
        }
      ]
    },
    {
      "cell_type": "code",
      "source": [
        "TaxaIdade = df['DS_FAIXA_ETARIA'].value_counts(normalize = True)*100"
      ],
      "metadata": {
        "id": "fl3KAzJ8Ba5W"
      },
      "execution_count": 11,
      "outputs": []
    },
    {
      "cell_type": "code",
      "source": [
        "TaxaIdade.plot.barh(color=\"BurlyWood\", figsize=(18,13)).set_title('Distribuição de idades do eleitor com deficiência, São Paulo, 2022', fontsize = 16.5)\n",
        "plt.ylabel('Eleitores', fontsize = 14)\n",
        "plt.xlabel('Faixa etária', fontsize = 14)\n",
        "plt.savefig('Distribuição.png')"
      ],
      "metadata": {
        "colab": {
          "base_uri": "https://localhost:8080/",
          "height": 793
        },
        "id": "7xd--3u6_9Lh",
        "outputId": "60d15dd4-a3da-47af-af8c-0e21874ccbfe"
      },
      "execution_count": 12,
      "outputs": [
        {
          "output_type": "display_data",
          "data": {
            "text/plain": [
              "<Figure size 1296x936 with 1 Axes>"
            ],
            "image/png": "[encoded data removed]"
          },
          "metadata": {
            "needs_background": "light"
          }
        }
      ]
    },
    {
      "cell_type": "code",
      "source": [
        "agrupando3 = df.groupby(['DS_TIPO_DEFICIENCIA']).size()"
      ],
      "metadata": {
        "id": "wzuBy7EdFGHh"
      },
      "execution_count": 13,
      "outputs": []
    },
    {
      "cell_type": "code",
      "source": [
        "agrupando3"
      ],
      "metadata": {
        "colab": {
          "base_uri": "https://localhost:8080/"
        },
        "id": "bIDcWIG4Ft-j",
        "outputId": "6d7ffcdb-3c54-4e12-817f-578be2f224a0"
      },
      "execution_count": 14,
      "outputs": [
        {
          "output_type": "execute_result",
          "data": {
            "text/plain": [
              "DS_TIPO_DEFICIENCIA\n",
              "DEFICIÊNCIA AUDITIVA                     21128\n",
              "DEFICIÊNCIA DE LOCOMOÇÃO                128529\n",
              "DEFICIÊNCIA VISUAL                       34611\n",
              "DIFICULDADE PARA O EXERCÍCIO DO VOTO     18614\n",
              "OUTROS                                  253964\n",
              "dtype: int64"
            ]
          },
          "metadata": {},
          "execution_count": 14
        }
      ]
    },
    {
      "cell_type": "code",
      "source": [
        "TaxaTiposDeficiencia = df['DS_TIPO_DEFICIENCIA'].value_counts(normalize = True)*100"
      ],
      "metadata": {
        "id": "GTnGLUXAGABR"
      },
      "execution_count": 15,
      "outputs": []
    },
    {
      "cell_type": "code",
      "source": [
        "TaxaTiposDeficiencia"
      ],
      "metadata": {
        "colab": {
          "base_uri": "https://localhost:8080/"
        },
        "id": "TlQ6l_LeG9s1",
        "outputId": "97f4987f-1d55-4689-bd05-3f2db3f59c00"
      },
      "execution_count": 16,
      "outputs": [
        {
          "output_type": "execute_result",
          "data": {
            "text/plain": [
              "OUTROS                                  55.590724\n",
              "DEFICIÊNCIA DE LOCOMOÇÃO                28.133988\n",
              "DEFICIÊNCIA VISUAL                       7.576076\n",
              "DEFICIÊNCIA AUDITIVA                     4.624753\n",
              "DIFICULDADE PARA O EXERCÍCIO DO VOTO     4.074458\n",
              "Name: DS_TIPO_DEFICIENCIA, dtype: float64"
            ]
          },
          "metadata": {},
          "execution_count": 16
        }
      ]
    },
    {
      "cell_type": "code",
      "source": [
        "Quantidade = np.array([34611, 21128, 128529])\n",
        "AsDeficiencias = ['VISUAL', 'AUDITIVA', 'LOCOMOÇÃO']\n",
        "\n",
        "cores=['LightSkyBlue', 'MediumPurple', 'OrangeRed']\n",
        "# o atributo explode indica que fatia do gráfico será destacada. No exemplo abaixo, será a primeira fatia. A quantidade de valores é igual ao número de fatias do gráfico. \n",
        "explode = (0, 0, 0.2)  # explode 1st slice\n",
        "\n",
        "# Atribuindo um título ao gráfico\n",
        "plt.title('Tipo de deficiência do eleitor, São Paulo, 2022', fontsize = 16)\n",
        "\n",
        "plt.pie(Quantidade, explode=explode, labels=AsDeficiencias, colors=cores, autopct='%1.2f%%', shadow=True, startangle=100)\n",
        "\n",
        "\n",
        "#Ajusta o espaçamento para evitar o recorte do rótulo\n",
        "plt.tight_layout()\n",
        "\n",
        "plt.savefig('TipoDeDeficiencia.png')"
      ],
      "metadata": {
        "colab": {
          "base_uri": "https://localhost:8080/",
          "height": 297
        },
        "id": "D1Zxy_53L7gH",
        "outputId": "d67ac75b-baba-49eb-982b-1b072ecdf637"
      },
      "execution_count": 23,
      "outputs": [
        {
          "output_type": "display_data",
          "data": {
            "text/plain": [
              "<Figure size 432x288 with 1 Axes>"
            ],
            "image/png": "[encoded data removed]"
          },
          "metadata": {}
        }
      ]
    },
    {
      "cell_type": "markdown",
      "source": [
        "- Jovens (até 29 anos) \t124398604\n",
        "- Adultos (até 59 anos) \t637285955\n",
        "- Idosos (de 60 ou mais) \t1783453232\n",
        "\n",
        "\n"
      ],
      "metadata": {
        "id": "pRUiaOlIWvCS"
      }
    },
    {
      "cell_type": "code",
      "source": [
        "Pessoas = np.array([124398604, 637285955,1783453232])\n",
        "Idades = [\"ATÉ 29 ANOS\", \"ATÉ 59 ANOS\",\"DE 60 OU MAIS\"]\n",
        "\n",
        "cores=['LightSkyBlue', 'MediumPurple', 'OrangeRed']\n",
        "# o atributo explode indica que fatia do gráfico será destacada. No exemplo abaixo, será a primeira fatia. A quantidade de valores é igual ao número de fatias do gráfico. \n",
        "explode = (0, 0, 0.2)  # explode 1st slice\n",
        "\n",
        "# Atribuindo um título ao gráfico\n",
        "plt.title('Idade do eleitor com deficiência, São Paulo, 2022', fontsize = 16)\n",
        "\n",
        "plt.pie(Pessoas, explode=explode, labels=Idades, colors=cores, autopct='%1.2f%%', shadow=True, startangle=100)\n",
        "\n",
        "\n",
        "#Ajusta o espaçamento para evitar o recorte do rótulo\n",
        "plt.tight_layout()\n",
        "\n",
        "plt.savefig('nome_da_figura.png')"
      ],
      "metadata": {
        "colab": {
          "base_uri": "https://localhost:8080/",
          "height": 297
        },
        "id": "6i1CCDynUfaA",
        "outputId": "e42b2cbc-b7f4-4a14-8877-4b25fdbb1228"
      },
      "execution_count": null,
      "outputs": [
        {
          "output_type": "display_data",
          "data": {
            "text/plain": [
              "<Figure size 432x288 with 1 Axes>"
            ],
            "image/png": "[encoded data removed]"
          },
          "metadata": {}
        }
      ]
    }
  ]
}
